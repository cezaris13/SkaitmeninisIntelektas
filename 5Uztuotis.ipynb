{
 "cells": [
  {
   "cell_type": "code",
   "execution_count": 101,
   "metadata": {},
   "outputs": [],
   "source": [
    "import numpy as np\n",
    "from math import ceil\n",
    "import matplotlib.pyplot as plt\n",
    "from matplotlib import colors"
   ]
  },
  {
   "cell_type": "code",
   "execution_count": 102,
   "metadata": {},
   "outputs": [],
   "source": [
    "numRows = 5                 # SOM lentelės eilučių skaičius\n",
    "numCols = 5                # SOM lentelės stulpelių skaičius\n",
    "maxLearningRate = 0.2      # Pradinis mokymo parametras\n",
    "epochs = 400               # Epochų skaičius\n",
    "maxManhatanDistance = 4           # Pradinis Manheteno atstumas\n",
    "fileName = 'iris.data'       # Duomenų failo pavadinimas\n",
    "labels = ['Iris-setosa', 'Iris-versicolor', 'Iris-virginica'] # Klasių pavadinimai"
   ]
  },
  {
   "cell_type": "code",
   "execution_count": 107,
   "metadata": {},
   "outputs": [],
   "source": [
    "# Irisų duomenų aibėje išmetamos Iris-setosa klasės reikšmės, kad būtų galima apdoroti Iris-versicolor, Iris-virginica, kaip 0 ir 1,\n",
    "# po to duomenys sumaišomi, paskutinis stulpelis(klasės reikšmė) perkeliama į atskirą masyva) ir išmetama.\n",
    "def prepareIrisData(inputFile: str) -> (np.ndarray, [int]):\n",
    "    outputFile= inputFile.replace('.data', '2.csv')\n",
    "    with open(inputFile, 'r') as fileInput:\n",
    "        with open(outputFile, 'w') as file:\n",
    "            for row in fileInput:\n",
    "                modifiedString = row\n",
    "                for i in range(len(labels)):\n",
    "                    modifiedString = modifiedString.replace(labels[i], str(i))\n",
    "                file.write(modifiedString)\n",
    "    inputData = readDataFromFile(outputFile, 0)\n",
    "    np.random.shuffle(inputData)\n",
    "    output = inputData[:, -1]\n",
    "    inputData = np.delete(inputData, -1, axis=1)\n",
    "    return inputData, output\n",
    "\n",
    "def readDataFromFile(filename: str, skipRows: int = 1) -> np.ndarray:\n",
    "    return np.loadtxt(filename, delimiter=',',skiprows=skipRows)\n",
    "\n",
    "def euclideanDistance(x: np.array, y: np.array) -> float:\n",
    "    return np.sqrt(np.sum(np.power(x - y, 2)))\n",
    "\n",
    "def manhattanDistance(x: np.array, y: np.array) -> float:\n",
    "    return np.sum(np.abs(x - y))\n",
    "\n",
    "def normalizeData(data: np.ndarray) -> np.ndarray:\n",
    "    return (data - np.min(data, axis=0) - np.max(data,axis=0)) / (np.max(data, axis=0) - np.min(data, axis=0))\n",
    "\n",
    "#figure out this and how it works\n",
    "# Neurono-nugalėtojo paieška\n",
    "def winningNeuron(data, t, som, numRows, numCols):\n",
    "  winner = [0,0]\n",
    "  shortestDistance = np.sqrt(data.shape[1])  # Kintamasis pradžioje inicializuojamas didžiausiu įmanomu atstumu\n",
    "  for row in range(numRows):\n",
    "    for col in range(numCols):\n",
    "      distance = euclideanDistance(som[row][col], data[t])\n",
    "      if distance < shortestDistance:\n",
    "        shortestDistance = distance\n",
    "        winner = [row,col]\n",
    "  return winner\n",
    "\n",
    "# figure out this and how it works\n",
    "# Didėjant epochos skaičiui apskaičiuojamas vis mažesnis mokymo parametras ir\n",
    "# didžiausias leistinas Manheteno atstumas, kuriuo kaimynai nutolę nuo\n",
    "# neurono-nugalėtojo\n",
    "def decay(step, epochs,learningRate,maxManhatanDistance):\n",
    "  coefficient = 1.0 - (np.float64(step)/epochs)\n",
    "  learningRate = coefficient * learningRate\n",
    "  neighbourhoodRange = ceil(coefficient * maxManhatanDistance)\n",
    "  return learningRate, neighbourhoodRange\n",
    "\n",
    "def SOMTraining(irisData, epochs:int, maxManhatanDistance:int, numRows: int, numCols: int):\n",
    "  # Inicializuojama matrica su atsitikinėmis vektorių reikšmėmis\n",
    "  numDimensions = irisData.shape[1]\n",
    "  np.random.seed(40)\n",
    "  som = np.random.random_sample(size=(numRows, numCols, numDimensions))\n",
    "\n",
    "  for epoch in range(epochs):\n",
    "    learningRate, neighbourhoodRange = decay(epoch, epochs, maxLearningRate, maxManhatanDistance)\n",
    "    for t in range(irisData.shape[0]):\n",
    "      winner = np.array(winningNeuron(irisData, t, som, numRows, numCols)) # Randamas neuronas-nugalėtojas duotam vektoriui\n",
    "\n",
    "      # Atnaujinami neuronų svoriai\n",
    "      # Naudojama burbuliuko kaimynystės funkcija, kur atnaujinami tik į\n",
    "      # neurono-nugalėtojo kaimynus patenkančių vektorių svoriai\n",
    "      for row in range(numRows):\n",
    "        for col in range(numCols):\n",
    "          if manhattanDistance(np.array([row,col]),winner) <= neighbourhoodRange:\n",
    "            som[row][col] += learningRate * (irisData[t] - som[row][col])\n",
    "\n",
    "  return som\n",
    "\n",
    "def drawMap(map, numRows, numCols):\n",
    "  # Kiekviename langelyje parenkama vaizduoti ta klasė, kuri pasikartoja\n",
    "  # dažniausiai tame langelyje\n",
    "  labelMap = np.zeros(shape=(numRows, numCols), dtype=np.int16)\n",
    "  for row in range(numRows):\n",
    "    for col in range(numCols):\n",
    "      labelList = map[row][col]\n",
    "      if len(labelList) == 0:\n",
    "        label = 3\n",
    "      else:\n",
    "        label = max(labelList, key=labelList.count)\n",
    "      labelMap[row][col] = label\n",
    "\n",
    "  cmap = colors.ListedColormap(['tab:blue', 'tab:green', 'tab:red', 'w'])\n",
    "  colorMap = plt.imshow(labelMap, cmap=cmap)\n",
    "  dataLabels = labels.copy()\n",
    "  dataLabels.insert(len(dataLabels),'No class')\n",
    "  cbar = plt.colorbar(colorMap, ticks=range(4))\n",
    "  cbar.ax.set_yticklabels(dataLabels)\n",
    "\n",
    "  plt.show()\n",
    "\n",
    "def getMapAndQuantization(irisData, irisOutput, som):\n",
    "   # Apmokytas SOM priskiria kiekvieno įeities vektoriaus klasę žemėlapio vietai,\n",
    "   # kurioje yra neuronas-nugalėtojas\n",
    "\n",
    "  map = np.empty(shape=(numRows, numCols), dtype=object)\n",
    "  quantizationError = 0\n",
    "\n",
    "  for row in range(numRows):\n",
    "    for col in range(numCols):\n",
    "      map[row][col] = []\n",
    "\n",
    "  for t in range(irisData.shape[0]):\n",
    "    winner = winningNeuron(irisData, t, som, numRows, numCols)\n",
    "    map[winner[0]][winner[1]].append(irisOutput[t])\n",
    "    quantizationError += euclideanDistance(irisData[t], som[winner[0]][winner[1]])\n",
    "  return map, quantizationError/irisData.shape[0]\n"
   ]
  },
  {
   "cell_type": "code",
   "execution_count": 104,
   "metadata": {},
   "outputs": [
    {
     "name": "stdout",
     "output_type": "stream",
     "text": [
      "[1. 1. 2. 2. 0. 1. 1. 0. 2. 1. 2. 0. 2. 2. 0. 0. 1. 0. 1. 0. 0. 0. 2. 2.\n",
      " 1. 1. 1. 2. 2. 2. 1. 0. 1. 2. 1. 2. 2. 1. 2. 2. 2. 1. 2. 2. 2. 0. 1. 2.\n",
      " 0. 1. 0. 1. 1. 1. 1. 1. 0. 1. 1. 0. 2. 2. 0. 2. 1. 0. 1. 0. 2. 0. 0. 0.\n",
      " 0. 2. 2. 1. 2. 0. 0. 1. 1. 1. 0. 1. 2. 2. 0. 2. 0. 1. 0. 1. 0. 0. 0. 2.\n",
      " 1. 0. 1. 0. 1. 0. 1. 2. 0. 2. 2. 1. 1. 0. 1. 1. 0. 0. 2. 2. 0. 0. 2. 0.\n",
      " 0. 2. 2. 1. 2. 0. 2. 1. 0. 1. 0. 2. 2. 1. 2. 1. 2. 0. 0. 1. 0. 2. 1. 1.\n",
      " 2. 2. 1. 0. 0. 2.]\n"
     ]
    }
   ],
   "source": [
    "irisData, irisOutput = prepareIrisData('iris.data')\n",
    "irisData = normalizeData(irisData)\n",
    "irisData = np.array(irisData)\n",
    "irisOutput = np.array(irisOutput)\n",
    "print (irisOutput)"
   ]
  },
  {
   "cell_type": "code",
   "execution_count": 105,
   "metadata": {},
   "outputs": [
    {
     "name": "stdout",
     "output_type": "stream",
     "text": [
      "Quantization error:  0.06531969500154808\n"
     ]
    }
   ],
   "source": [
    "som = SOMTraining(irisData, epochs, maxManhatanDistance, numRows, numCols)\n",
    "\n",
    "# Apskaičiuojama kvantavimo paklaida\n",
    "map, quantizationError = getMapAndQuantization(irisData, irisOutput, som)\n",
    "print(\"Quantization error: \", quantizationError)\n"
   ]
  },
  {
   "cell_type": "code",
   "execution_count": 108,
   "metadata": {},
   "outputs": [
    {
     "data": {
      "image/png": "[encoded data removed]",
      "text/plain": [
       "<Figure size 640x480 with 2 Axes>"
      ]
     },
     "metadata": {},
     "output_type": "display_data"
    }
   ],
   "source": [
    "drawMap(map, numRows, numCols)"
   ]
  }
 ],
 "metadata": {
  "kernelspec": {
   "display_name": "Python 3",
   "language": "python",
   "name": "python3"
  },
  "language_info": {
   "codemirror_mode": {
    "name": "ipython",
    "version": 3
   },
   "file_extension": ".py",
   "mimetype": "text/x-python",
   "name": "python",
   "nbconvert_exporter": "python",
   "pygments_lexer": "ipython3",
   "version": "3.11.4"
  },
  "orig_nbformat": 4
 },
 "nbformat": 4,
 "nbformat_minor": 2
}
